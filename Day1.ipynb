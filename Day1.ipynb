{
 "cells": [
  {
   "cell_type": "markdown",
   "metadata": {},
   "source": [
    "# Analytixlab class1"
   ]
  },
  {
   "cell_type": "code",
   "execution_count": null,
   "metadata": {},
   "outputs": [],
   "source": [
    "Basic syntax of python\n",
    "Programming concept\n",
    "Basic codes in python\n",
    "Data analysis – descriptive analytics\n",
    "ANN\n",
    "Text mining\n",
    "Training ID – training@analytixlabs.co.in (TAT 24hrs)"
   ]
  },
  {
   "cell_type": "markdown",
   "metadata": {},
   "source": [
    "# Data server"
   ]
  },
  {
   "cell_type": "code",
   "execution_count": null,
   "metadata": {},
   "outputs": [],
   "source": [
    "Data can be in any of the below servers –\n",
    "1. OLAP\n",
    "2. OLTP – like relational data base\n",
    "This process is called ETL\n",
    "\n",
    "https://www.tutorialspoint.com/dwh/dwh_olap.htm"
   ]
  },
  {
   "cell_type": "markdown",
   "metadata": {},
   "source": [
    "# Python introduction"
   ]
  },
  {
   "cell_type": "code",
   "execution_count": null,
   "metadata": {},
   "outputs": [],
   "source": [
    "What is Python & why we use it in data science? General purpose language\n",
    "Easy to understand\n",
    "\n",
    "Open source :\n",
    "R/Python\n",
    "Free\n",
    "\n",
    "End to end implementation\n",
    "New algorithem are available soon\n",
    "\n",
    "Licenced Versioned:\n",
    "SAS\n",
    "Cost\n",
    "Data Security\n",
    "24 x 7 support\n",
    "Easy to learn\n",
    "\n",
    "by the new algorethim  comes up it becomes obsolete\n",
    "\n",
    "2016 onwards:\n",
    "10%  SAS \n",
    "30%   R\n",
    "60% Python, Machine Learning, Data Science\n",
    "\n",
    "General purpose language\n",
    "1. web development\n",
    "2. Windows app development\n",
    "3. Scripting\n",
    "4. Data Science -- 2015"
   ]
  },
  {
   "cell_type": "markdown",
   "metadata": {},
   "source": [
    "# Anaconda"
   ]
  },
  {
   "cell_type": "code",
   "execution_count": null,
   "metadata": {},
   "outputs": [],
   "source": [
    "Anaconda - with this what all u get (2.7/3.7)\n",
    "Download 3.7\n",
    "we will work on jupyter tool\n",
    "\n",
    "Python \n",
    "IDE - Intergrated Development Environment (jupyter, Sypder)\n",
    "Reporting Tool - Jupyter (also used by authors, writers) most of the companies are using\n",
    "1000+ packages for DS"
   ]
  },
  {
   "cell_type": "markdown",
   "metadata": {},
   "source": [
    "# Launch Juypter 3"
   ]
  },
  {
   "cell_type": "code",
   "execution_count": null,
   "metadata": {},
   "outputs": [],
   "source": [
    "To save the file click on the untitle bar and change the name \n",
    "It gets saved on the default location in \"C:/\" drive and the extension is \".pynb\"\n",
    "\n",
    "In Jupyter we have a concept called cells and we can add cells above and below \n",
    "Every cell has 2 states - \n",
    "1. Edit State \n",
    "2. Select State (When u click Esc u move into the select state)\n",
    "All the short cuts will work in the select state only and not in the edit state\n",
    "\n",
    "Types/Mode of cells : Three\n",
    "1. Code : Python code. You can write equation, theory tables, chart in the form of out put. U can download it from the \n",
    "    file and send it across. \n",
    "2. RawNbconvert : all formating like in notepad, wordpad, text pad\n",
    "3. Markdown : all formating like in MS word\n",
    "\n",
    "# It is known as reporting tool because of these above features\n",
    "# It is popular among authors and writers because of this.\n",
    "# In python you can just write the formula and the graphs and charts will be formed automatically on its own\n",
    "# Markdown is also a language\n",
    "# You can write HTML language in Markdown\n",
    "\n",
    "# (pound symbol is the markdown language) \n",
    "How to write the heading \n",
    "Esc + M\n",
    "#heading \n",
    "Shift + Enter"
   ]
  },
  {
   "cell_type": "markdown",
   "metadata": {},
   "source": [
    "# Python properties"
   ]
  },
  {
   "cell_type": "code",
   "execution_count": null,
   "metadata": {},
   "outputs": [],
   "source": [
    "OOP - Object oriented language\n",
    "Dynamically/Loosely Typed\n",
    "Platform independent \n",
    "Interpreted\n",
    "Easy on syntax\n",
    "Well intended codes/readable code\n",
    "General purpose\n",
    "Case sensitive\n",
    "High level language"
   ]
  },
  {
   "cell_type": "markdown",
   "metadata": {},
   "source": [
    "# Compiler Vs Interprator"
   ]
  },
  {
   "cell_type": "code",
   "execution_count": null,
   "metadata": {},
   "outputs": [],
   "source": [
    "Difference between Compiler Vs Interprator (we need these bcz machine only understands 0101010 language)\n",
    "\n",
    "1. Interpreter: \n",
    "Translates program one statement at a time.\n",
    "It takes less amount of time to analyze the source code but the overall execution time is slower.\n",
    "No intermediate object code is generated, hence are memory efficient.\n",
    "Continues translating the program until the first error is met, in which case it stops. Hence debugging is easy.\n",
    "Programming language like Python, Ruby use interpreters.\n",
    "\n",
    "2. Compiler (good during development):\n",
    "Scans the entire program and translates it as a whole into machine code.\n",
    "It takes large amount of time to analyze the source code but the overall execution time is comparatively faster.\n",
    "Generates intermediate object code which further requires linking, hence requires more memory.\n",
    "It generates the error message only after scanning the whole program. Hence debugging is comparatively hard.\n",
    "Programming language like C, C++ use compilers.\n",
    "\n",
    "https://www.programiz.com/article/difference-compiler-interpreter"
   ]
  },
  {
   "cell_type": "markdown",
   "metadata": {},
   "source": [
    "# Few concepts "
   ]
  },
  {
   "cell_type": "code",
   "execution_count": null,
   "metadata": {},
   "outputs": [],
   "source": [
    "1. If we write # in markdown mode it is heading\n",
    "    If we write # in code then it is comment line\n",
    "    If we write # in RawNbconvert no need to worry about the # sign\n",
    "\n",
    "2. Variable -- you have to assign a value to a variable\n",
    "    eg., a = 34 ---- a is a variable in which 34 is stored\n",
    "\n",
    "3. Python supports only single line comments. We do not have multiline comment symbol in python\n",
    "    (If you write 10 lines of codes in one cell you will have to write 10 lines of comments as well bcz it will execute \n",
    "     one by one)\n",
    "\n",
    "4. Whenever we get data in a tabular form/table form it is known as structured data\n",
    "\n",
    "5. Data types:\n",
    "    \n",
    "    Char (Str): write it in quotes, in python we can use both single/doulbe quotes\n",
    "        Alphabets\n",
    "        Alpha Numeric (A1001)\n",
    "        Special characters\n",
    "    \n",
    "    Numeric:\n",
    "        (int) -- Whole/Integer Numbers: (valid: 1,2,3) (Invalid: 1.2, 34.56)   \n",
    "        (float) -- Decimals/Floating numbers: (Valid: 1.0, 1.2, 34.56)\n",
    "        (Bool) -- Boolen (True/False)\n",
    "                - Dates\n",
    "    \n",
    "6. In python we don’t need to declare the variable so it is dynamically/loosly types\n",
    "\n",
    "7. When you name a Variable there are some naming conventions\n",
    "Naming conventions: are called INC (identifier naming convention) naming convention\n",
    "1. Variable names can have alphabets and numbers\n",
    "2. No special chars allowed except underscore\n",
    "3. Variable names can start only with alphabet or underscore\n",
    "4. No restriction on number of characters\n",
    "\n",
    "Recommendations \n",
    "** Don't give the var name starting with underscore\n",
    "**Never use the key words as the variable names\n",
    "\n",
    "8. There are 4 base data types in python\n",
    "    Str --------String values\n",
    "    Float ------Decimal or the coding numbers\n",
    "    Int (long)--Integer value \n",
    "    Bool -------Yes/no\n",
    "No data type for dates in python but we can still use dates and we have to download one package to work on that\n",
    "\n",
    "9. Different language has their different data types for the better memory usage \n",
    "In python apart from Bool is given 64 bits (8 bytes of memory)\n",
    "Later python frees the memory by garbage collectors to make better use of memory\n",
    "\n",
    "All Microsoft applications take the starting date as 1-1-1900\n",
    "So, when you write a date and it is in the general format it calculates the number of days from 1-1-1900\n",
    "Eg., 43674  --- This is the number of days from 1-1-1900 till 28-jul-2019\n",
    "\n",
    "In 2.x there were int & long data type \n",
    "In 3.x they have combined this data type"
   ]
  },
  {
   "cell_type": "markdown",
   "metadata": {},
   "source": [
    "# Python shortcuts"
   ]
  },
  {
   "cell_type": "code",
   "execution_count": null,
   "metadata": {},
   "outputs": [],
   "source": [
    "Shortcuts:\n",
    "\n",
    "Two states of cells\n",
    "    Edit\n",
    "    Select - Esc\n",
    "\n",
    "Types/Mode of cells: Three\n",
    "        code: Esc + Y\n",
    "        RawNbConvert: Esc + R (like text note book)\n",
    "        Markdown: Esc + M\n",
    "\n",
    "Shortcuts:\n",
    "    Add new cells:\n",
    "        Above: Esc + A\n",
    "        Below: Esc + B\n",
    "    \n",
    "    Delete the cells : Esc + dd\n",
    "        \n",
    "        Code : Esc + Y\n",
    "        RawNbconvert : Esc + R\n",
    "        Markdown: Esc + M\n",
    "\n",
    "        Copy: Esc + C\n",
    "        Paste: Esc + V\n",
    "        Cut: Esc + X\n",
    "            \n",
    "    Execute the codes --Run:\n",
    "        Cntr + Enter -- after execution I will be in the same cell\n",
    "        Shift + Enter -- after execution I will be in the next cell and if I am in the last cell then it will create \n",
    "            a new cell and move there \n",
    "            \n",
    "Help -- Keyboard Shortcuts\n",
    "You also have option to change edit shortcuts in jupyter\n",
    "Help -- Edit keyboard shortcuts"
   ]
  },
  {
   "cell_type": "code",
   "execution_count": null,
   "metadata": {},
   "outputs": [],
   "source": [
    "#assign the value to the variable..comment line in code\n",
    "   a = 34    "
   ]
  },
  {
   "cell_type": "code",
   "execution_count": 2,
   "metadata": {},
   "outputs": [
    {
     "ename": "SyntaxError",
     "evalue": "invalid syntax (<ipython-input-2-e70c0b5c4270>, line 1)",
     "output_type": "error",
     "traceback": [
      "\u001b[1;36m  File \u001b[1;32m\"<ipython-input-2-e70c0b5c4270>\"\u001b[1;36m, line \u001b[1;32m1\u001b[0m\n\u001b[1;33m    1a=2\u001b[0m\n\u001b[1;37m     ^\u001b[0m\n\u001b[1;31mSyntaxError\u001b[0m\u001b[1;31m:\u001b[0m invalid syntax\n"
     ]
    }
   ],
   "source": [
    "1a=2"
   ]
  },
  {
   "cell_type": "code",
   "execution_count": null,
   "metadata": {},
   "outputs": [],
   "source": []
  }
 ],
 "metadata": {
  "kernelspec": {
   "display_name": "Python 3",
   "language": "python",
   "name": "python3"
  },
  "language_info": {
   "codemirror_mode": {
    "name": "ipython",
    "version": 3
   },
   "file_extension": ".py",
   "mimetype": "text/x-python",
   "name": "python",
   "nbconvert_exporter": "python",
   "pygments_lexer": "ipython3",
   "version": "3.7.3"
  }
 },
 "nbformat": 4,
 "nbformat_minor": 2
}
