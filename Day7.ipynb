{
 "cells": [
  {
   "cell_type": "code",
   "execution_count": 1,
   "metadata": {},
   "outputs": [],
   "source": [
    "import pandas as pd"
   ]
  },
  {
   "cell_type": "code",
   "execution_count": 2,
   "metadata": {},
   "outputs": [],
   "source": [
    "stores = pd.read_csv('C:/Users/User/Desktop/PYTHON/Data Sets/stores.csv')"
   ]
  },
  {
   "cell_type": "code",
   "execution_count": 3,
   "metadata": {},
   "outputs": [
    {
     "name": "stdout",
     "output_type": "stream",
     "text": [
      "71.1\n",
      "72.526\n",
      "472.0\n",
      "468.28000000000003\n"
     ]
    }
   ],
   "source": [
    "# outlier treatment\n",
    "print(stores.TotalSales.min())\n",
    "print(stores.TotalSales.quantile(.01))\n",
    "print(stores.TotalSales.max())\n",
    "print(stores.TotalSales.quantile(.99))"
   ]
  },
  {
   "cell_type": "code",
   "execution_count": 3,
   "metadata": {},
   "outputs": [
    {
     "data": {
      "text/plain": [
       "0     160.000\n",
       "1     160.000\n",
       "2     108.000\n",
       "3     258.000\n",
       "4     360.000\n",
       "5     225.000\n",
       "6     360.000\n",
       "7     146.700\n",
       "8     140.800\n",
       "9     167.600\n",
       "10    167.600\n",
       "11    275.800\n",
       "12    275.800\n",
       "13    275.800\n",
       "14    468.280\n",
       "15    460.000\n",
       "16    440.000\n",
       "17     78.700\n",
       "18     75.700\n",
       "19     72.526\n",
       "20    120.100\n",
       "21    318.000\n",
       "22    304.000\n",
       "23    350.000\n",
       "24    400.000\n",
       "25     79.000\n",
       "26    120.300\n",
       "27     95.100\n",
       "28    351.000\n",
       "29    145.000\n",
       "30    301.000\n",
       "31    121.000\n",
       "Name: TotalSales, dtype: float64"
      ]
     },
     "execution_count": 3,
     "metadata": {},
     "output_type": "execute_result"
    }
   ],
   "source": [
    "# from the above any data less than 72.526 we want to clip it to 72.526\n",
    "# from the above any data more than 468.28 we want to clip it to 468.28\n",
    "# stores.TotalSales.clip(lower = 72.526, upper = 468.28)\n",
    "\n",
    "stores.TotalSales.clip(lower = stores.TotalSales.quantile(.01), upper = stores.TotalSales.quantile(.99))"
   ]
  },
  {
   "cell_type": "code",
   "execution_count": 4,
   "metadata": {},
   "outputs": [
    {
     "data": {
      "text/html": [
       "<div>\n",
       "<style scoped>\n",
       "    .dataframe tbody tr th:only-of-type {\n",
       "        vertical-align: middle;\n",
       "    }\n",
       "\n",
       "    .dataframe tbody tr th {\n",
       "        vertical-align: top;\n",
       "    }\n",
       "\n",
       "    .dataframe thead th {\n",
       "        text-align: right;\n",
       "    }\n",
       "</style>\n",
       "<table border=\"1\" class=\"dataframe\">\n",
       "  <thead>\n",
       "    <tr style=\"text-align: right;\">\n",
       "      <th></th>\n",
       "      <th>TotalSales</th>\n",
       "      <th>TotalSales</th>\n",
       "    </tr>\n",
       "  </thead>\n",
       "  <tbody>\n",
       "    <tr>\n",
       "      <th>0</th>\n",
       "      <td>160.0</td>\n",
       "      <td>160.000</td>\n",
       "    </tr>\n",
       "    <tr>\n",
       "      <th>1</th>\n",
       "      <td>160.0</td>\n",
       "      <td>160.000</td>\n",
       "    </tr>\n",
       "    <tr>\n",
       "      <th>2</th>\n",
       "      <td>108.0</td>\n",
       "      <td>108.000</td>\n",
       "    </tr>\n",
       "    <tr>\n",
       "      <th>3</th>\n",
       "      <td>258.0</td>\n",
       "      <td>258.000</td>\n",
       "    </tr>\n",
       "    <tr>\n",
       "      <th>4</th>\n",
       "      <td>360.0</td>\n",
       "      <td>360.000</td>\n",
       "    </tr>\n",
       "    <tr>\n",
       "      <th>5</th>\n",
       "      <td>225.0</td>\n",
       "      <td>225.000</td>\n",
       "    </tr>\n",
       "    <tr>\n",
       "      <th>6</th>\n",
       "      <td>360.0</td>\n",
       "      <td>360.000</td>\n",
       "    </tr>\n",
       "    <tr>\n",
       "      <th>7</th>\n",
       "      <td>146.7</td>\n",
       "      <td>146.700</td>\n",
       "    </tr>\n",
       "    <tr>\n",
       "      <th>8</th>\n",
       "      <td>140.8</td>\n",
       "      <td>140.800</td>\n",
       "    </tr>\n",
       "    <tr>\n",
       "      <th>9</th>\n",
       "      <td>167.6</td>\n",
       "      <td>167.600</td>\n",
       "    </tr>\n",
       "    <tr>\n",
       "      <th>10</th>\n",
       "      <td>167.6</td>\n",
       "      <td>167.600</td>\n",
       "    </tr>\n",
       "    <tr>\n",
       "      <th>11</th>\n",
       "      <td>275.8</td>\n",
       "      <td>275.800</td>\n",
       "    </tr>\n",
       "    <tr>\n",
       "      <th>12</th>\n",
       "      <td>275.8</td>\n",
       "      <td>275.800</td>\n",
       "    </tr>\n",
       "    <tr>\n",
       "      <th>13</th>\n",
       "      <td>275.8</td>\n",
       "      <td>275.800</td>\n",
       "    </tr>\n",
       "    <tr>\n",
       "      <th>14</th>\n",
       "      <td>472.0</td>\n",
       "      <td>468.280</td>\n",
       "    </tr>\n",
       "    <tr>\n",
       "      <th>15</th>\n",
       "      <td>460.0</td>\n",
       "      <td>460.000</td>\n",
       "    </tr>\n",
       "    <tr>\n",
       "      <th>16</th>\n",
       "      <td>440.0</td>\n",
       "      <td>440.000</td>\n",
       "    </tr>\n",
       "    <tr>\n",
       "      <th>17</th>\n",
       "      <td>78.7</td>\n",
       "      <td>78.700</td>\n",
       "    </tr>\n",
       "    <tr>\n",
       "      <th>18</th>\n",
       "      <td>75.7</td>\n",
       "      <td>75.700</td>\n",
       "    </tr>\n",
       "    <tr>\n",
       "      <th>19</th>\n",
       "      <td>71.1</td>\n",
       "      <td>72.526</td>\n",
       "    </tr>\n",
       "    <tr>\n",
       "      <th>20</th>\n",
       "      <td>120.1</td>\n",
       "      <td>120.100</td>\n",
       "    </tr>\n",
       "    <tr>\n",
       "      <th>21</th>\n",
       "      <td>318.0</td>\n",
       "      <td>318.000</td>\n",
       "    </tr>\n",
       "    <tr>\n",
       "      <th>22</th>\n",
       "      <td>304.0</td>\n",
       "      <td>304.000</td>\n",
       "    </tr>\n",
       "    <tr>\n",
       "      <th>23</th>\n",
       "      <td>350.0</td>\n",
       "      <td>350.000</td>\n",
       "    </tr>\n",
       "    <tr>\n",
       "      <th>24</th>\n",
       "      <td>400.0</td>\n",
       "      <td>400.000</td>\n",
       "    </tr>\n",
       "    <tr>\n",
       "      <th>25</th>\n",
       "      <td>79.0</td>\n",
       "      <td>79.000</td>\n",
       "    </tr>\n",
       "    <tr>\n",
       "      <th>26</th>\n",
       "      <td>120.3</td>\n",
       "      <td>120.300</td>\n",
       "    </tr>\n",
       "    <tr>\n",
       "      <th>27</th>\n",
       "      <td>95.1</td>\n",
       "      <td>95.100</td>\n",
       "    </tr>\n",
       "    <tr>\n",
       "      <th>28</th>\n",
       "      <td>351.0</td>\n",
       "      <td>351.000</td>\n",
       "    </tr>\n",
       "    <tr>\n",
       "      <th>29</th>\n",
       "      <td>145.0</td>\n",
       "      <td>145.000</td>\n",
       "    </tr>\n",
       "    <tr>\n",
       "      <th>30</th>\n",
       "      <td>301.0</td>\n",
       "      <td>301.000</td>\n",
       "    </tr>\n",
       "    <tr>\n",
       "      <th>31</th>\n",
       "      <td>121.0</td>\n",
       "      <td>121.000</td>\n",
       "    </tr>\n",
       "  </tbody>\n",
       "</table>\n",
       "</div>"
      ],
      "text/plain": [
       "    TotalSales  TotalSales\n",
       "0        160.0     160.000\n",
       "1        160.0     160.000\n",
       "2        108.0     108.000\n",
       "3        258.0     258.000\n",
       "4        360.0     360.000\n",
       "5        225.0     225.000\n",
       "6        360.0     360.000\n",
       "7        146.7     146.700\n",
       "8        140.8     140.800\n",
       "9        167.6     167.600\n",
       "10       167.6     167.600\n",
       "11       275.8     275.800\n",
       "12       275.8     275.800\n",
       "13       275.8     275.800\n",
       "14       472.0     468.280\n",
       "15       460.0     460.000\n",
       "16       440.0     440.000\n",
       "17        78.7      78.700\n",
       "18        75.7      75.700\n",
       "19        71.1      72.526\n",
       "20       120.1     120.100\n",
       "21       318.0     318.000\n",
       "22       304.0     304.000\n",
       "23       350.0     350.000\n",
       "24       400.0     400.000\n",
       "25        79.0      79.000\n",
       "26       120.3     120.300\n",
       "27        95.1      95.100\n",
       "28       351.0     351.000\n",
       "29       145.0     145.000\n",
       "30       301.0     301.000\n",
       "31       121.0     121.000"
      ]
     },
     "execution_count": 4,
     "metadata": {},
     "output_type": "execute_result"
    }
   ],
   "source": [
    "# if i want to check the values that which values are changed/clipped then -- \n",
    "\n",
    "pd.concat([stores.TotalSales, stores.TotalSales.clip(lower = stores.TotalSales.quantile(.01), \n",
    "                                                     upper = stores.TotalSales.quantile(.99))], axis = 1)"
   ]
  },
  {
   "cell_type": "code",
   "execution_count": null,
   "metadata": {},
   "outputs": [],
   "source": [
    "# Joins and stack are different\n",
    "\n",
    "For join there should be some common values\n",
    "For hstack/vstack no common column required"
   ]
  },
  {
   "cell_type": "markdown",
   "metadata": {},
   "source": [
    "# Creating summaries/aggregations in Python"
   ]
  },
  {
   "cell_type": "code",
   "execution_count": null,
   "metadata": {},
   "outputs": [],
   "source": [
    "# when we have one field in the rows and one field in columns -- Cross table or wide table \n",
    "# when both fields are made in one column then it is known as long data or hirarcyal data \n",
    "\n",
    "# create the summaries in python - 2 step process\n",
    "    1. Create the group by object df.groupby(), df.groupby([])\n",
    "    2. create a summary/aggregation .sum() .mean()   .agg()   , apply() and lambda function"
   ]
  },
  {
   "cell_type": "code",
   "execution_count": 6,
   "metadata": {},
   "outputs": [],
   "source": [
    "# Step1: create the group by object\n",
    "\n",
    "grpdata = stores.groupby('Location')"
   ]
  },
  {
   "cell_type": "code",
   "execution_count": 7,
   "metadata": {},
   "outputs": [
    {
     "data": {
      "text/plain": [
       "Location\n",
       "Chennai    2235.4\n",
       "Delhi      1777.7\n",
       "Kolkata    1612.4\n",
       "Mumbai     1757.6\n",
       "Name: TotalSales, dtype: float64"
      ]
     },
     "execution_count": 7,
     "metadata": {},
     "output_type": "execute_result"
    }
   ],
   "source": [
    "grpdata.TotalSales.sum()"
   ]
  },
  {
   "cell_type": "code",
   "execution_count": 8,
   "metadata": {},
   "outputs": [
    {
     "data": {
      "text/html": [
       "<div>\n",
       "<style scoped>\n",
       "    .dataframe tbody tr th:only-of-type {\n",
       "        vertical-align: middle;\n",
       "    }\n",
       "\n",
       "    .dataframe tbody tr th {\n",
       "        vertical-align: top;\n",
       "    }\n",
       "\n",
       "    .dataframe thead th {\n",
       "        text-align: right;\n",
       "    }\n",
       "</style>\n",
       "<table border=\"1\" class=\"dataframe\">\n",
       "  <thead>\n",
       "    <tr style=\"text-align: right;\">\n",
       "      <th></th>\n",
       "      <th>Location</th>\n",
       "      <th>TotalSales</th>\n",
       "    </tr>\n",
       "  </thead>\n",
       "  <tbody>\n",
       "    <tr>\n",
       "      <th>0</th>\n",
       "      <td>Chennai</td>\n",
       "      <td>2235.4</td>\n",
       "    </tr>\n",
       "    <tr>\n",
       "      <th>1</th>\n",
       "      <td>Delhi</td>\n",
       "      <td>1777.7</td>\n",
       "    </tr>\n",
       "    <tr>\n",
       "      <th>2</th>\n",
       "      <td>Kolkata</td>\n",
       "      <td>1612.4</td>\n",
       "    </tr>\n",
       "    <tr>\n",
       "      <th>3</th>\n",
       "      <td>Mumbai</td>\n",
       "      <td>1757.6</td>\n",
       "    </tr>\n",
       "  </tbody>\n",
       "</table>\n",
       "</div>"
      ],
      "text/plain": [
       "  Location  TotalSales\n",
       "0  Chennai      2235.4\n",
       "1    Delhi      1777.7\n",
       "2  Kolkata      1612.4\n",
       "3   Mumbai      1757.6"
      ]
     },
     "execution_count": 8,
     "metadata": {},
     "output_type": "execute_result"
    }
   ],
   "source": [
    "# Step2: create a summary/aggregation\n",
    "\n",
    "grpdata.TotalSales.sum().reset_index()"
   ]
  },
  {
   "cell_type": "code",
   "execution_count": 9,
   "metadata": {},
   "outputs": [
    {
     "data": {
      "text/html": [
       "<div>\n",
       "<style scoped>\n",
       "    .dataframe tbody tr th:only-of-type {\n",
       "        vertical-align: middle;\n",
       "    }\n",
       "\n",
       "    .dataframe tbody tr th {\n",
       "        vertical-align: top;\n",
       "    }\n",
       "\n",
       "    .dataframe thead th {\n",
       "        text-align: right;\n",
       "    }\n",
       "</style>\n",
       "<table border=\"1\" class=\"dataframe\">\n",
       "  <thead>\n",
       "    <tr style=\"text-align: right;\">\n",
       "      <th></th>\n",
       "      <th>Location</th>\n",
       "      <th>TotalSales</th>\n",
       "    </tr>\n",
       "  </thead>\n",
       "  <tbody>\n",
       "    <tr>\n",
       "      <th>0</th>\n",
       "      <td>Chennai</td>\n",
       "      <td>2235.4</td>\n",
       "    </tr>\n",
       "    <tr>\n",
       "      <th>1</th>\n",
       "      <td>Delhi</td>\n",
       "      <td>1777.7</td>\n",
       "    </tr>\n",
       "    <tr>\n",
       "      <th>2</th>\n",
       "      <td>Kolkata</td>\n",
       "      <td>1612.4</td>\n",
       "    </tr>\n",
       "    <tr>\n",
       "      <th>3</th>\n",
       "      <td>Mumbai</td>\n",
       "      <td>1757.6</td>\n",
       "    </tr>\n",
       "  </tbody>\n",
       "</table>\n",
       "</div>"
      ],
      "text/plain": [
       "  Location  TotalSales\n",
       "0  Chennai      2235.4\n",
       "1    Delhi      1777.7\n",
       "2  Kolkata      1612.4\n",
       "3   Mumbai      1757.6"
      ]
     },
     "execution_count": 9,
     "metadata": {},
     "output_type": "execute_result"
    }
   ],
   "source": [
    "# you can write the 2 steps in one line as well \n",
    "# get the total sales for each location\n",
    "\n",
    "stores.groupby('Location').TotalSales.sum().reset_index()"
   ]
  },
  {
   "cell_type": "code",
   "execution_count": 16,
   "metadata": {},
   "outputs": [],
   "source": [
    "# Signature: stores.TotalSales.agg(func, axis=0, *args, **kwargs)\n",
    "# Docstring: Aggregate using one or more operations over the specified axis.\n",
    "\n",
    "stores.TotalSales.agg?"
   ]
  },
  {
   "cell_type": "code",
   "execution_count": 10,
   "metadata": {},
   "outputs": [
    {
     "data": {
      "text/html": [
       "<div>\n",
       "<style scoped>\n",
       "    .dataframe tbody tr th:only-of-type {\n",
       "        vertical-align: middle;\n",
       "    }\n",
       "\n",
       "    .dataframe tbody tr th {\n",
       "        vertical-align: top;\n",
       "    }\n",
       "\n",
       "    .dataframe thead th {\n",
       "        text-align: right;\n",
       "    }\n",
       "</style>\n",
       "<table border=\"1\" class=\"dataframe\">\n",
       "  <thead>\n",
       "    <tr style=\"text-align: right;\">\n",
       "      <th></th>\n",
       "      <th>Location</th>\n",
       "      <th>sum</th>\n",
       "      <th>mean</th>\n",
       "      <th>min</th>\n",
       "      <th>max</th>\n",
       "      <th>std</th>\n",
       "    </tr>\n",
       "  </thead>\n",
       "  <tbody>\n",
       "    <tr>\n",
       "      <th>0</th>\n",
       "      <td>Chennai</td>\n",
       "      <td>2235.4</td>\n",
       "      <td>279.4250</td>\n",
       "      <td>140.8</td>\n",
       "      <td>472.0</td>\n",
       "      <td>127.592227</td>\n",
       "    </tr>\n",
       "    <tr>\n",
       "      <th>1</th>\n",
       "      <td>Delhi</td>\n",
       "      <td>1777.7</td>\n",
       "      <td>222.2125</td>\n",
       "      <td>108.0</td>\n",
       "      <td>360.0</td>\n",
       "      <td>96.914343</td>\n",
       "    </tr>\n",
       "    <tr>\n",
       "      <th>2</th>\n",
       "      <td>Kolkata</td>\n",
       "      <td>1612.4</td>\n",
       "      <td>201.5500</td>\n",
       "      <td>79.0</td>\n",
       "      <td>400.0</td>\n",
       "      <td>127.753043</td>\n",
       "    </tr>\n",
       "    <tr>\n",
       "      <th>3</th>\n",
       "      <td>Mumbai</td>\n",
       "      <td>1757.6</td>\n",
       "      <td>219.7000</td>\n",
       "      <td>71.1</td>\n",
       "      <td>440.0</td>\n",
       "      <td>148.756119</td>\n",
       "    </tr>\n",
       "  </tbody>\n",
       "</table>\n",
       "</div>"
      ],
      "text/plain": [
       "  Location     sum      mean    min    max         std\n",
       "0  Chennai  2235.4  279.4250  140.8  472.0  127.592227\n",
       "1    Delhi  1777.7  222.2125  108.0  360.0   96.914343\n",
       "2  Kolkata  1612.4  201.5500   79.0  400.0  127.753043\n",
       "3   Mumbai  1757.6  219.7000   71.1  440.0  148.756119"
      ]
     },
     "execution_count": 10,
     "metadata": {},
     "output_type": "execute_result"
    }
   ],
   "source": [
    "# get total and average Sales for each location\n",
    "# stores.groupby('Location').TotalSales.agg([sum(), mean(), min(), max(), std()]).reset_index()\n",
    "\n",
    "stores.groupby('Location').TotalSales.agg(['sum', 'mean', 'min', 'max', 'std']).reset_index()"
   ]
  },
  {
   "cell_type": "code",
   "execution_count": 11,
   "metadata": {},
   "outputs": [
    {
     "data": {
      "text/html": [
       "<div>\n",
       "<style scoped>\n",
       "    .dataframe tbody tr th:only-of-type {\n",
       "        vertical-align: middle;\n",
       "    }\n",
       "\n",
       "    .dataframe tbody tr th {\n",
       "        vertical-align: top;\n",
       "    }\n",
       "\n",
       "    .dataframe thead th {\n",
       "        text-align: right;\n",
       "    }\n",
       "</style>\n",
       "<table border=\"1\" class=\"dataframe\">\n",
       "  <thead>\n",
       "    <tr style=\"text-align: right;\">\n",
       "      <th></th>\n",
       "      <th>Location</th>\n",
       "      <th>TotalSales</th>\n",
       "      <th>OperatingCost</th>\n",
       "    </tr>\n",
       "  </thead>\n",
       "  <tbody>\n",
       "    <tr>\n",
       "      <th>0</th>\n",
       "      <td>Chennai</td>\n",
       "      <td>2235.4</td>\n",
       "      <td>129.5</td>\n",
       "    </tr>\n",
       "    <tr>\n",
       "      <th>1</th>\n",
       "      <td>Delhi</td>\n",
       "      <td>1777.7</td>\n",
       "      <td>161.7</td>\n",
       "    </tr>\n",
       "    <tr>\n",
       "      <th>2</th>\n",
       "      <td>Kolkata</td>\n",
       "      <td>1612.4</td>\n",
       "      <td>174.8</td>\n",
       "    </tr>\n",
       "    <tr>\n",
       "      <th>3</th>\n",
       "      <td>Mumbai</td>\n",
       "      <td>1757.6</td>\n",
       "      <td>176.9</td>\n",
       "    </tr>\n",
       "  </tbody>\n",
       "</table>\n",
       "</div>"
      ],
      "text/plain": [
       "  Location  TotalSales  OperatingCost\n",
       "0  Chennai      2235.4          129.5\n",
       "1    Delhi      1777.7          161.7\n",
       "2  Kolkata      1612.4          174.8\n",
       "3   Mumbai      1757.6          176.9"
      ]
     },
     "execution_count": 11,
     "metadata": {},
     "output_type": "execute_result"
    }
   ],
   "source": [
    "# get the total sales and total operating cost for each Location\n",
    "# here i need to use [[]] as there are multiple columns and the . operator will get me only one column\n",
    "\n",
    "stores.groupby('Location')[['TotalSales', 'OperatingCost']].sum().reset_index()"
   ]
  },
  {
   "cell_type": "code",
   "execution_count": 12,
   "metadata": {},
   "outputs": [
    {
     "data": {
      "text/html": [
       "<div>\n",
       "<style scoped>\n",
       "    .dataframe tbody tr th:only-of-type {\n",
       "        vertical-align: middle;\n",
       "    }\n",
       "\n",
       "    .dataframe tbody tr th {\n",
       "        vertical-align: top;\n",
       "    }\n",
       "\n",
       "    .dataframe thead tr th {\n",
       "        text-align: left;\n",
       "    }\n",
       "</style>\n",
       "<table border=\"1\" class=\"dataframe\">\n",
       "  <thead>\n",
       "    <tr>\n",
       "      <th></th>\n",
       "      <th>Location</th>\n",
       "      <th colspan=\"2\" halign=\"left\">TotalSales</th>\n",
       "      <th colspan=\"2\" halign=\"left\">OperatingCost</th>\n",
       "    </tr>\n",
       "    <tr>\n",
       "      <th></th>\n",
       "      <th></th>\n",
       "      <th>sum</th>\n",
       "      <th>mean</th>\n",
       "      <th>sum</th>\n",
       "      <th>mean</th>\n",
       "    </tr>\n",
       "  </thead>\n",
       "  <tbody>\n",
       "    <tr>\n",
       "      <th>0</th>\n",
       "      <td>Chennai</td>\n",
       "      <td>2235.4</td>\n",
       "      <td>279.4250</td>\n",
       "      <td>129.5</td>\n",
       "      <td>16.1875</td>\n",
       "    </tr>\n",
       "    <tr>\n",
       "      <th>1</th>\n",
       "      <td>Delhi</td>\n",
       "      <td>1777.7</td>\n",
       "      <td>222.2125</td>\n",
       "      <td>161.7</td>\n",
       "      <td>20.2125</td>\n",
       "    </tr>\n",
       "    <tr>\n",
       "      <th>2</th>\n",
       "      <td>Kolkata</td>\n",
       "      <td>1612.4</td>\n",
       "      <td>201.5500</td>\n",
       "      <td>174.8</td>\n",
       "      <td>21.8500</td>\n",
       "    </tr>\n",
       "    <tr>\n",
       "      <th>3</th>\n",
       "      <td>Mumbai</td>\n",
       "      <td>1757.6</td>\n",
       "      <td>219.7000</td>\n",
       "      <td>176.9</td>\n",
       "      <td>22.1125</td>\n",
       "    </tr>\n",
       "  </tbody>\n",
       "</table>\n",
       "</div>"
      ],
      "text/plain": [
       "  Location TotalSales           OperatingCost         \n",
       "                  sum      mean           sum     mean\n",
       "0  Chennai     2235.4  279.4250         129.5  16.1875\n",
       "1    Delhi     1777.7  222.2125         161.7  20.2125\n",
       "2  Kolkata     1612.4  201.5500         174.8  21.8500\n",
       "3   Mumbai     1757.6  219.7000         176.9  22.1125"
      ]
     },
     "execution_count": 12,
     "metadata": {},
     "output_type": "execute_result"
    }
   ],
   "source": [
    "# get the total and average sales and operating cost for each Location\n",
    "\n",
    "stores.groupby('Location')[['TotalSales', 'OperatingCost']].agg(['sum', 'mean']).reset_index()"
   ]
  },
  {
   "cell_type": "code",
   "execution_count": 13,
   "metadata": {},
   "outputs": [
    {
     "data": {
      "text/html": [
       "<div>\n",
       "<style scoped>\n",
       "    .dataframe tbody tr th:only-of-type {\n",
       "        vertical-align: middle;\n",
       "    }\n",
       "\n",
       "    .dataframe tbody tr th {\n",
       "        vertical-align: top;\n",
       "    }\n",
       "\n",
       "    .dataframe thead th {\n",
       "        text-align: right;\n",
       "    }\n",
       "</style>\n",
       "<table border=\"1\" class=\"dataframe\">\n",
       "  <thead>\n",
       "    <tr style=\"text-align: right;\">\n",
       "      <th></th>\n",
       "      <th>TotalSales</th>\n",
       "      <th>OperatingCost</th>\n",
       "    </tr>\n",
       "    <tr>\n",
       "      <th>Location</th>\n",
       "      <th></th>\n",
       "      <th></th>\n",
       "    </tr>\n",
       "  </thead>\n",
       "  <tbody>\n",
       "    <tr>\n",
       "      <th>Chennai</th>\n",
       "      <td>2235.4</td>\n",
       "      <td>16.1875</td>\n",
       "    </tr>\n",
       "    <tr>\n",
       "      <th>Delhi</th>\n",
       "      <td>1777.7</td>\n",
       "      <td>20.2125</td>\n",
       "    </tr>\n",
       "    <tr>\n",
       "      <th>Kolkata</th>\n",
       "      <td>1612.4</td>\n",
       "      <td>21.8500</td>\n",
       "    </tr>\n",
       "    <tr>\n",
       "      <th>Mumbai</th>\n",
       "      <td>1757.6</td>\n",
       "      <td>22.1125</td>\n",
       "    </tr>\n",
       "  </tbody>\n",
       "</table>\n",
       "</div>"
      ],
      "text/plain": [
       "          TotalSales  OperatingCost\n",
       "Location                           \n",
       "Chennai       2235.4        16.1875\n",
       "Delhi         1777.7        20.2125\n",
       "Kolkata       1612.4        21.8500\n",
       "Mumbai        1757.6        22.1125"
      ]
     },
     "execution_count": 13,
     "metadata": {},
     "output_type": "execute_result"
    }
   ],
   "source": [
    "# get the total sales and average operating cost for each Location\n",
    "\n",
    "stores.groupby('Location')[['TotalSales', 'OperatingCost']].agg({'TotalSales': 'sum', 'OperatingCost':'mean'})"
   ]
  },
  {
   "cell_type": "code",
   "execution_count": 14,
   "metadata": {},
   "outputs": [],
   "source": [
    "# get total sales for each Location and Store Type\n",
    "# this is giving us long data hence, we will convert it to wide data as wide data is a better view\n",
    "\n",
    "stores_summ = stores.groupby(['Location', 'StoreType']).TotalSales.sum().reset_index()"
   ]
  },
  {
   "cell_type": "code",
   "execution_count": 15,
   "metadata": {},
   "outputs": [
    {
     "data": {
      "text/html": [
       "<div>\n",
       "<style scoped>\n",
       "    .dataframe tbody tr th:only-of-type {\n",
       "        vertical-align: middle;\n",
       "    }\n",
       "\n",
       "    .dataframe tbody tr th {\n",
       "        vertical-align: top;\n",
       "    }\n",
       "\n",
       "    .dataframe thead th {\n",
       "        text-align: right;\n",
       "    }\n",
       "</style>\n",
       "<table border=\"1\" class=\"dataframe\">\n",
       "  <thead>\n",
       "    <tr style=\"text-align: right;\">\n",
       "      <th></th>\n",
       "      <th>Location</th>\n",
       "      <th>StoreType</th>\n",
       "      <th>TotalSales</th>\n",
       "    </tr>\n",
       "  </thead>\n",
       "  <tbody>\n",
       "    <tr>\n",
       "      <th>0</th>\n",
       "      <td>Chennai</td>\n",
       "      <td>Apparel</td>\n",
       "      <td>915.4</td>\n",
       "    </tr>\n",
       "    <tr>\n",
       "      <th>1</th>\n",
       "      <td>Chennai</td>\n",
       "      <td>Electronincs</td>\n",
       "      <td>600.8</td>\n",
       "    </tr>\n",
       "    <tr>\n",
       "      <th>2</th>\n",
       "      <td>Chennai</td>\n",
       "      <td>Super Market</td>\n",
       "      <td>719.2</td>\n",
       "    </tr>\n",
       "    <tr>\n",
       "      <th>3</th>\n",
       "      <td>Delhi</td>\n",
       "      <td>Apparel</td>\n",
       "      <td>745.0</td>\n",
       "    </tr>\n",
       "    <tr>\n",
       "      <th>4</th>\n",
       "      <td>Delhi</td>\n",
       "      <td>Electronincs</td>\n",
       "      <td>306.7</td>\n",
       "    </tr>\n",
       "    <tr>\n",
       "      <th>5</th>\n",
       "      <td>Delhi</td>\n",
       "      <td>Super Market</td>\n",
       "      <td>726.0</td>\n",
       "    </tr>\n",
       "    <tr>\n",
       "      <th>6</th>\n",
       "      <td>Kolkata</td>\n",
       "      <td>Apparel</td>\n",
       "      <td>525.0</td>\n",
       "    </tr>\n",
       "    <tr>\n",
       "      <th>7</th>\n",
       "      <td>Kolkata</td>\n",
       "      <td>Electronincs</td>\n",
       "      <td>521.0</td>\n",
       "    </tr>\n",
       "    <tr>\n",
       "      <th>8</th>\n",
       "      <td>Kolkata</td>\n",
       "      <td>Super Market</td>\n",
       "      <td>566.4</td>\n",
       "    </tr>\n",
       "    <tr>\n",
       "      <th>9</th>\n",
       "      <td>Mumbai</td>\n",
       "      <td>Apparel</td>\n",
       "      <td>700.7</td>\n",
       "    </tr>\n",
       "    <tr>\n",
       "      <th>10</th>\n",
       "      <td>Mumbai</td>\n",
       "      <td>Electronincs</td>\n",
       "      <td>790.0</td>\n",
       "    </tr>\n",
       "    <tr>\n",
       "      <th>11</th>\n",
       "      <td>Mumbai</td>\n",
       "      <td>Super Market</td>\n",
       "      <td>266.9</td>\n",
       "    </tr>\n",
       "  </tbody>\n",
       "</table>\n",
       "</div>"
      ],
      "text/plain": [
       "   Location     StoreType  TotalSales\n",
       "0   Chennai       Apparel       915.4\n",
       "1   Chennai  Electronincs       600.8\n",
       "2   Chennai  Super Market       719.2\n",
       "3     Delhi       Apparel       745.0\n",
       "4     Delhi  Electronincs       306.7\n",
       "5     Delhi  Super Market       726.0\n",
       "6   Kolkata       Apparel       525.0\n",
       "7   Kolkata  Electronincs       521.0\n",
       "8   Kolkata  Super Market       566.4\n",
       "9    Mumbai       Apparel       700.7\n",
       "10   Mumbai  Electronincs       790.0\n",
       "11   Mumbai  Super Market       266.9"
      ]
     },
     "execution_count": 15,
     "metadata": {},
     "output_type": "execute_result"
    }
   ],
   "source": [
    "stores_summ"
   ]
  },
  {
   "cell_type": "code",
   "execution_count": 22,
   "metadata": {},
   "outputs": [],
   "source": [
    "# pivot -- Signature: stores_summ.pivot(index=None, columns=None, values=None)\n",
    "# Docstring: Return reshaped DataFrame organized by given index / column values.\n",
    "\n",
    "stores_summ.pivot?"
   ]
  },
  {
   "cell_type": "code",
   "execution_count": 16,
   "metadata": {},
   "outputs": [
    {
     "data": {
      "text/html": [
       "<div>\n",
       "<style scoped>\n",
       "    .dataframe tbody tr th:only-of-type {\n",
       "        vertical-align: middle;\n",
       "    }\n",
       "\n",
       "    .dataframe tbody tr th {\n",
       "        vertical-align: top;\n",
       "    }\n",
       "\n",
       "    .dataframe thead th {\n",
       "        text-align: right;\n",
       "    }\n",
       "</style>\n",
       "<table border=\"1\" class=\"dataframe\">\n",
       "  <thead>\n",
       "    <tr style=\"text-align: right;\">\n",
       "      <th>StoreType</th>\n",
       "      <th>Apparel</th>\n",
       "      <th>Electronincs</th>\n",
       "      <th>Super Market</th>\n",
       "    </tr>\n",
       "    <tr>\n",
       "      <th>Location</th>\n",
       "      <th></th>\n",
       "      <th></th>\n",
       "      <th></th>\n",
       "    </tr>\n",
       "  </thead>\n",
       "  <tbody>\n",
       "    <tr>\n",
       "      <th>Chennai</th>\n",
       "      <td>915.4</td>\n",
       "      <td>600.8</td>\n",
       "      <td>719.2</td>\n",
       "    </tr>\n",
       "    <tr>\n",
       "      <th>Delhi</th>\n",
       "      <td>745.0</td>\n",
       "      <td>306.7</td>\n",
       "      <td>726.0</td>\n",
       "    </tr>\n",
       "    <tr>\n",
       "      <th>Kolkata</th>\n",
       "      <td>525.0</td>\n",
       "      <td>521.0</td>\n",
       "      <td>566.4</td>\n",
       "    </tr>\n",
       "    <tr>\n",
       "      <th>Mumbai</th>\n",
       "      <td>700.7</td>\n",
       "      <td>790.0</td>\n",
       "      <td>266.9</td>\n",
       "    </tr>\n",
       "  </tbody>\n",
       "</table>\n",
       "</div>"
      ],
      "text/plain": [
       "StoreType  Apparel  Electronincs  Super Market\n",
       "Location                                      \n",
       "Chennai      915.4         600.8         719.2\n",
       "Delhi        745.0         306.7         726.0\n",
       "Kolkata      525.0         521.0         566.4\n",
       "Mumbai       700.7         790.0         266.9"
      ]
     },
     "execution_count": 16,
     "metadata": {},
     "output_type": "execute_result"
    }
   ],
   "source": [
    "# converting long data to wide data (cross view table)\n",
    "\n",
    "stores_summ.pivot('Location', 'StoreType', 'TotalSales')"
   ]
  },
  {
   "cell_type": "code",
   "execution_count": null,
   "metadata": {},
   "outputs": [],
   "source": [
    "# .melt -- Signature: stores_summ.melt(id_vars=None, value_vars=None, var_name=None, value_name='value', col_level=None,)\n",
    "# Docstring: Unpivots a DataFrame from wide format to long format, optionally leaving identifier variables set."
   ]
  },
  {
   "cell_type": "code",
   "execution_count": 24,
   "metadata": {},
   "outputs": [],
   "source": [
    "# converting wide data to long data we have .melt\n",
    "stores_summ.melt?"
   ]
  },
  {
   "cell_type": "code",
   "execution_count": 25,
   "metadata": {},
   "outputs": [],
   "source": [
    "# If we want to all the steps in one step then use \n",
    "\n",
    "stores.pivot_table?"
   ]
  },
  {
   "cell_type": "code",
   "execution_count": null,
   "metadata": {},
   "outputs": [],
   "source": [
    "# Signature: stores.pivot_table( values=None, index=None, columns=None, aggfunc='mean', fill_value=None, margins=False,\n",
    "    dropna=True, margins_name='All',)\n",
    "# Docstring: Create a spreadsheet-style pivot table as a DataFrame. The levels in the pivot table will be stored in MultiIndex \n",
    "# objects (hierarchical indexes) on the index and columns of the result DataFrame."
   ]
  },
  {
   "cell_type": "code",
   "execution_count": 17,
   "metadata": {},
   "outputs": [
    {
     "data": {
      "text/html": [
       "<div>\n",
       "<style scoped>\n",
       "    .dataframe tbody tr th:only-of-type {\n",
       "        vertical-align: middle;\n",
       "    }\n",
       "\n",
       "    .dataframe tbody tr th {\n",
       "        vertical-align: top;\n",
       "    }\n",
       "\n",
       "    .dataframe thead th {\n",
       "        text-align: right;\n",
       "    }\n",
       "</style>\n",
       "<table border=\"1\" class=\"dataframe\">\n",
       "  <thead>\n",
       "    <tr style=\"text-align: right;\">\n",
       "      <th>StoreType</th>\n",
       "      <th>Apparel</th>\n",
       "      <th>Electronincs</th>\n",
       "      <th>Super Market</th>\n",
       "    </tr>\n",
       "    <tr>\n",
       "      <th>Location</th>\n",
       "      <th></th>\n",
       "      <th></th>\n",
       "      <th></th>\n",
       "    </tr>\n",
       "  </thead>\n",
       "  <tbody>\n",
       "    <tr>\n",
       "      <th>Chennai</th>\n",
       "      <td>915.4</td>\n",
       "      <td>600.8</td>\n",
       "      <td>719.2</td>\n",
       "    </tr>\n",
       "    <tr>\n",
       "      <th>Delhi</th>\n",
       "      <td>745.0</td>\n",
       "      <td>306.7</td>\n",
       "      <td>726.0</td>\n",
       "    </tr>\n",
       "    <tr>\n",
       "      <th>Kolkata</th>\n",
       "      <td>525.0</td>\n",
       "      <td>521.0</td>\n",
       "      <td>566.4</td>\n",
       "    </tr>\n",
       "    <tr>\n",
       "      <th>Mumbai</th>\n",
       "      <td>700.7</td>\n",
       "      <td>790.0</td>\n",
       "      <td>266.9</td>\n",
       "    </tr>\n",
       "  </tbody>\n",
       "</table>\n",
       "</div>"
      ],
      "text/plain": [
       "StoreType  Apparel  Electronincs  Super Market\n",
       "Location                                      \n",
       "Chennai      915.4         600.8         719.2\n",
       "Delhi        745.0         306.7         726.0\n",
       "Kolkata      525.0         521.0         566.4\n",
       "Mumbai       700.7         790.0         266.9"
      ]
     },
     "execution_count": 17,
     "metadata": {},
     "output_type": "execute_result"
    }
   ],
   "source": [
    "stores.pivot_table(index = 'Location', columns = 'StoreType', \n",
    "                       values = 'TotalSales', aggfunc = 'sum')"
   ]
  },
  {
   "cell_type": "code",
   "execution_count": 18,
   "metadata": {},
   "outputs": [
    {
     "data": {
      "text/html": [
       "<div>\n",
       "<style scoped>\n",
       "    .dataframe tbody tr th:only-of-type {\n",
       "        vertical-align: middle;\n",
       "    }\n",
       "\n",
       "    .dataframe tbody tr th {\n",
       "        vertical-align: top;\n",
       "    }\n",
       "\n",
       "    .dataframe thead th {\n",
       "        text-align: right;\n",
       "    }\n",
       "</style>\n",
       "<table border=\"1\" class=\"dataframe\">\n",
       "  <thead>\n",
       "    <tr style=\"text-align: right;\">\n",
       "      <th>StoreType</th>\n",
       "      <th>Apparel</th>\n",
       "      <th>Electronincs</th>\n",
       "      <th>Super Market</th>\n",
       "      <th>All</th>\n",
       "    </tr>\n",
       "    <tr>\n",
       "      <th>Location</th>\n",
       "      <th></th>\n",
       "      <th></th>\n",
       "      <th></th>\n",
       "      <th></th>\n",
       "    </tr>\n",
       "  </thead>\n",
       "  <tbody>\n",
       "    <tr>\n",
       "      <th>Chennai</th>\n",
       "      <td>915.4</td>\n",
       "      <td>600.8</td>\n",
       "      <td>719.2</td>\n",
       "      <td>2235.4</td>\n",
       "    </tr>\n",
       "    <tr>\n",
       "      <th>Delhi</th>\n",
       "      <td>745.0</td>\n",
       "      <td>306.7</td>\n",
       "      <td>726.0</td>\n",
       "      <td>1777.7</td>\n",
       "    </tr>\n",
       "    <tr>\n",
       "      <th>Kolkata</th>\n",
       "      <td>525.0</td>\n",
       "      <td>521.0</td>\n",
       "      <td>566.4</td>\n",
       "      <td>1612.4</td>\n",
       "    </tr>\n",
       "    <tr>\n",
       "      <th>Mumbai</th>\n",
       "      <td>700.7</td>\n",
       "      <td>790.0</td>\n",
       "      <td>266.9</td>\n",
       "      <td>1757.6</td>\n",
       "    </tr>\n",
       "    <tr>\n",
       "      <th>All</th>\n",
       "      <td>2886.1</td>\n",
       "      <td>2218.5</td>\n",
       "      <td>2278.5</td>\n",
       "      <td>7383.1</td>\n",
       "    </tr>\n",
       "  </tbody>\n",
       "</table>\n",
       "</div>"
      ],
      "text/plain": [
       "StoreType  Apparel  Electronincs  Super Market     All\n",
       "Location                                              \n",
       "Chennai      915.4         600.8         719.2  2235.4\n",
       "Delhi        745.0         306.7         726.0  1777.7\n",
       "Kolkata      525.0         521.0         566.4  1612.4\n",
       "Mumbai       700.7         790.0         266.9  1757.6\n",
       "All         2886.1        2218.5        2278.5  7383.1"
      ]
     },
     "execution_count": 18,
     "metadata": {},
     "output_type": "execute_result"
    }
   ],
   "source": [
    "# Cross table/ wide table using pivot_table\n",
    "# margins = True will give the total of all columns\n",
    "\n",
    "stores.pivot_table(index = 'Location', columns = 'StoreType', \n",
    "                       values = 'TotalSales', aggfunc = 'sum', margins = True)"
   ]
  },
  {
   "cell_type": "code",
   "execution_count": 19,
   "metadata": {},
   "outputs": [
    {
     "data": {
      "text/html": [
       "<div>\n",
       "<style scoped>\n",
       "    .dataframe tbody tr th:only-of-type {\n",
       "        vertical-align: middle;\n",
       "    }\n",
       "\n",
       "    .dataframe tbody tr th {\n",
       "        vertical-align: top;\n",
       "    }\n",
       "\n",
       "    .dataframe thead tr th {\n",
       "        text-align: left;\n",
       "    }\n",
       "</style>\n",
       "<table border=\"1\" class=\"dataframe\">\n",
       "  <thead>\n",
       "    <tr>\n",
       "      <th></th>\n",
       "      <th>Location</th>\n",
       "      <th>StoreType</th>\n",
       "      <th>sum</th>\n",
       "      <th>mean</th>\n",
       "    </tr>\n",
       "    <tr>\n",
       "      <th></th>\n",
       "      <th></th>\n",
       "      <th></th>\n",
       "      <th>TotalSales</th>\n",
       "      <th>TotalSales</th>\n",
       "    </tr>\n",
       "  </thead>\n",
       "  <tbody>\n",
       "    <tr>\n",
       "      <th>0</th>\n",
       "      <td>Chennai</td>\n",
       "      <td>Apparel</td>\n",
       "      <td>915.4</td>\n",
       "      <td>305.133333</td>\n",
       "    </tr>\n",
       "    <tr>\n",
       "      <th>1</th>\n",
       "      <td>Chennai</td>\n",
       "      <td>Electronincs</td>\n",
       "      <td>600.8</td>\n",
       "      <td>300.400000</td>\n",
       "    </tr>\n",
       "    <tr>\n",
       "      <th>2</th>\n",
       "      <td>Chennai</td>\n",
       "      <td>Super Market</td>\n",
       "      <td>719.2</td>\n",
       "      <td>239.733333</td>\n",
       "    </tr>\n",
       "    <tr>\n",
       "      <th>3</th>\n",
       "      <td>Delhi</td>\n",
       "      <td>Apparel</td>\n",
       "      <td>745.0</td>\n",
       "      <td>248.333333</td>\n",
       "    </tr>\n",
       "    <tr>\n",
       "      <th>4</th>\n",
       "      <td>Delhi</td>\n",
       "      <td>Electronincs</td>\n",
       "      <td>306.7</td>\n",
       "      <td>153.350000</td>\n",
       "    </tr>\n",
       "    <tr>\n",
       "      <th>5</th>\n",
       "      <td>Delhi</td>\n",
       "      <td>Super Market</td>\n",
       "      <td>726.0</td>\n",
       "      <td>242.000000</td>\n",
       "    </tr>\n",
       "    <tr>\n",
       "      <th>6</th>\n",
       "      <td>Kolkata</td>\n",
       "      <td>Apparel</td>\n",
       "      <td>525.0</td>\n",
       "      <td>175.000000</td>\n",
       "    </tr>\n",
       "    <tr>\n",
       "      <th>7</th>\n",
       "      <td>Kolkata</td>\n",
       "      <td>Electronincs</td>\n",
       "      <td>521.0</td>\n",
       "      <td>260.500000</td>\n",
       "    </tr>\n",
       "    <tr>\n",
       "      <th>8</th>\n",
       "      <td>Kolkata</td>\n",
       "      <td>Super Market</td>\n",
       "      <td>566.4</td>\n",
       "      <td>188.800000</td>\n",
       "    </tr>\n",
       "    <tr>\n",
       "      <th>9</th>\n",
       "      <td>Mumbai</td>\n",
       "      <td>Apparel</td>\n",
       "      <td>700.7</td>\n",
       "      <td>233.566667</td>\n",
       "    </tr>\n",
       "    <tr>\n",
       "      <th>10</th>\n",
       "      <td>Mumbai</td>\n",
       "      <td>Electronincs</td>\n",
       "      <td>790.0</td>\n",
       "      <td>395.000000</td>\n",
       "    </tr>\n",
       "    <tr>\n",
       "      <th>11</th>\n",
       "      <td>Mumbai</td>\n",
       "      <td>Super Market</td>\n",
       "      <td>266.9</td>\n",
       "      <td>88.966667</td>\n",
       "    </tr>\n",
       "  </tbody>\n",
       "</table>\n",
       "</div>"
      ],
      "text/plain": [
       "   Location     StoreType        sum        mean\n",
       "                          TotalSales  TotalSales\n",
       "0   Chennai       Apparel      915.4  305.133333\n",
       "1   Chennai  Electronincs      600.8  300.400000\n",
       "2   Chennai  Super Market      719.2  239.733333\n",
       "3     Delhi       Apparel      745.0  248.333333\n",
       "4     Delhi  Electronincs      306.7  153.350000\n",
       "5     Delhi  Super Market      726.0  242.000000\n",
       "6   Kolkata       Apparel      525.0  175.000000\n",
       "7   Kolkata  Electronincs      521.0  260.500000\n",
       "8   Kolkata  Super Market      566.4  188.800000\n",
       "9    Mumbai       Apparel      700.7  233.566667\n",
       "10   Mumbai  Electronincs      790.0  395.000000\n",
       "11   Mumbai  Super Market      266.9   88.966667"
      ]
     },
     "execution_count": 19,
     "metadata": {},
     "output_type": "execute_result"
    }
   ],
   "source": [
    "# Long table using pivot_table\n",
    "\n",
    "stores.pivot_table(index = ['Location', 'StoreType'], values='TotalSales', aggfunc=['sum', 'mean']).reset_index()"
   ]
  },
  {
   "cell_type": "markdown",
   "metadata": {},
   "source": [
    "# Date & Time "
   ]
  },
  {
   "cell_type": "code",
   "execution_count": 1,
   "metadata": {},
   "outputs": [],
   "source": [
    "import pandas as pd"
   ]
  },
  {
   "cell_type": "code",
   "execution_count": 2,
   "metadata": {},
   "outputs": [],
   "source": [
    "Q1 = pd.read_csv('C:/Users/User/Desktop/PYTHON/Data Sets/POS_Q1.csv')"
   ]
  },
  {
   "cell_type": "code",
   "execution_count": 3,
   "metadata": {},
   "outputs": [
    {
     "data": {
      "text/html": [
       "<div>\n",
       "<style scoped>\n",
       "    .dataframe tbody tr th:only-of-type {\n",
       "        vertical-align: middle;\n",
       "    }\n",
       "\n",
       "    .dataframe tbody tr th {\n",
       "        vertical-align: top;\n",
       "    }\n",
       "\n",
       "    .dataframe thead th {\n",
       "        text-align: right;\n",
       "    }\n",
       "</style>\n",
       "<table border=\"1\" class=\"dataframe\">\n",
       "  <thead>\n",
       "    <tr style=\"text-align: right;\">\n",
       "      <th></th>\n",
       "      <th>Date</th>\n",
       "      <th>Configuration</th>\n",
       "      <th>Customer Postcode</th>\n",
       "      <th>Store Postcode</th>\n",
       "      <th>Retail Price</th>\n",
       "      <th>month</th>\n",
       "    </tr>\n",
       "  </thead>\n",
       "  <tbody>\n",
       "    <tr>\n",
       "      <th>0</th>\n",
       "      <td>01-01-13 0:01</td>\n",
       "      <td>163</td>\n",
       "      <td>EC4V 5BH</td>\n",
       "      <td>SE1 2BN</td>\n",
       "      <td>455</td>\n",
       "      <td>1</td>\n",
       "    </tr>\n",
       "    <tr>\n",
       "      <th>1</th>\n",
       "      <td>01-01-13 0:02</td>\n",
       "      <td>320</td>\n",
       "      <td>SW4 0JL</td>\n",
       "      <td>SW12 9HD</td>\n",
       "      <td>545</td>\n",
       "      <td>1</td>\n",
       "    </tr>\n",
       "    <tr>\n",
       "      <th>2</th>\n",
       "      <td>01-01-13 0:04</td>\n",
       "      <td>23</td>\n",
       "      <td>EC3V 1LR</td>\n",
       "      <td>E2 0RY</td>\n",
       "      <td>515</td>\n",
       "      <td>1</td>\n",
       "    </tr>\n",
       "    <tr>\n",
       "      <th>3</th>\n",
       "      <td>01-01-13 0:04</td>\n",
       "      <td>169</td>\n",
       "      <td>SW1P 3AU</td>\n",
       "      <td>SE1 2BN</td>\n",
       "      <td>395</td>\n",
       "      <td>1</td>\n",
       "    </tr>\n",
       "    <tr>\n",
       "      <th>4</th>\n",
       "      <td>01-01-13 0:06</td>\n",
       "      <td>365</td>\n",
       "      <td>EC4V 4EG</td>\n",
       "      <td>SW1V 4QQ</td>\n",
       "      <td>585</td>\n",
       "      <td>1</td>\n",
       "    </tr>\n",
       "  </tbody>\n",
       "</table>\n",
       "</div>"
      ],
      "text/plain": [
       "            Date  Configuration Customer Postcode Store Postcode  \\\n",
       "0  01-01-13 0:01            163          EC4V 5BH        SE1 2BN   \n",
       "1  01-01-13 0:02            320           SW4 0JL       SW12 9HD   \n",
       "2  01-01-13 0:04             23          EC3V 1LR         E2 0RY   \n",
       "3  01-01-13 0:04            169          SW1P 3AU        SE1 2BN   \n",
       "4  01-01-13 0:06            365          EC4V 4EG       SW1V 4QQ   \n",
       "\n",
       "   Retail Price  month  \n",
       "0           455      1  \n",
       "1           545      1  \n",
       "2           515      1  \n",
       "3           395      1  \n",
       "4           585      1  "
      ]
     },
     "execution_count": 3,
     "metadata": {},
     "output_type": "execute_result"
    }
   ],
   "source": [
    "Q1"
   ]
  },
  {
   "cell_type": "code",
   "execution_count": 10,
   "metadata": {},
   "outputs": [
    {
     "data": {
      "text/plain": [
       "Date                 object\n",
       "Configuration         int64\n",
       "Customer Postcode    object\n",
       "Store Postcode       object\n",
       "Retail Price          int64\n",
       "month                 int64\n",
       "dtype: object"
      ]
     },
     "execution_count": 10,
     "metadata": {},
     "output_type": "execute_result"
    }
   ],
   "source": [
    "# here Date is object type and we cannot perform any operation when the column is not a proper date & time\n",
    "\n",
    "Q1.dtypes"
   ]
  },
  {
   "cell_type": "code",
   "execution_count": null,
   "metadata": {},
   "outputs": [],
   "source": [
    "# suppose i have date in string and we want to get the year. it is not possible . first we have to change the type and then \n",
    "we have to perform any operation\n",
    "\n",
    "'18-Aug-2019' "
   ]
  },
  {
   "cell_type": "code",
   "execution_count": null,
   "metadata": {},
   "outputs": [],
   "source": [
    "# in pandas there are to methods for changing the date to proper date and time\n",
    "# in most of the cases the numbers are stored as text values and to convert them back to numbers or date & time we will make \n",
    "use of these 2 things only\n",
    "\n",
    "pd.to_datetime()\n",
    "pd.to_numeric() -- converts object type data to numeric\n",
    "series.astype() -- converts numeric data to object type, also converts numbers to categorical type "
   ]
  },
  {
   "cell_type": "code",
   "execution_count": 11,
   "metadata": {},
   "outputs": [
    {
     "data": {
      "text/plain": [
       "0    01-01-13 0:01\n",
       "1    01-01-13 0:02\n",
       "2    01-01-13 0:04\n",
       "3    01-01-13 0:04\n",
       "4    01-01-13 0:06\n",
       "Name: Date, dtype: object"
      ]
     },
     "execution_count": 11,
     "metadata": {},
     "output_type": "execute_result"
    }
   ],
   "source": [
    "Q1.Date"
   ]
  },
  {
   "cell_type": "code",
   "execution_count": null,
   "metadata": {},
   "outputs": [],
   "source": [
    "# this method has converted the date column from object to datetime \n",
    "Name: Date, dtype: datetime64[ns]"
   ]
  },
  {
   "cell_type": "code",
   "execution_count": 12,
   "metadata": {},
   "outputs": [
    {
     "data": {
      "text/plain": [
       "0   2013-01-01 00:01:00\n",
       "1   2013-01-01 00:02:00\n",
       "2   2013-01-01 00:04:00\n",
       "3   2013-01-01 00:04:00\n",
       "4   2013-01-01 00:06:00\n",
       "Name: Date, dtype: datetime64[ns]"
      ]
     },
     "execution_count": 12,
     "metadata": {},
     "output_type": "execute_result"
    }
   ],
   "source": [
    "pd.to_datetime(Q1.Date)"
   ]
  },
  {
   "cell_type": "code",
   "execution_count": null,
   "metadata": {},
   "outputs": [],
   "source": [
    "# to instruct the tool how to read the date we need to give instruction to python by writing format\n",
    "Eg. mm-dd-yyyy "
   ]
  },
  {
   "cell_type": "code",
   "execution_count": 14,
   "metadata": {},
   "outputs": [],
   "source": [
    "dob = '07-04-2000'"
   ]
  },
  {
   "cell_type": "code",
   "execution_count": 15,
   "metadata": {},
   "outputs": [
    {
     "data": {
      "text/plain": [
       "Timestamp('2000-07-04 00:00:00')"
      ]
     },
     "execution_count": 15,
     "metadata": {},
     "output_type": "execute_result"
    }
   ],
   "source": [
    "pd.to_datetime(dob)"
   ]
  },
  {
   "cell_type": "code",
   "execution_count": null,
   "metadata": {},
   "outputs": [],
   "source": [
    "# instruction to python \n",
    "Datetime conversion\n",
    "\n",
    "%d -- refers to date \n",
    "%a -- mon, sun, tue\n",
    "%A -- monday, sunday, tuesday\n",
    "\n",
    "%m -- refers to month\n",
    "%b -- jan, feb, mar\n",
    "%B -- january, february, march\n",
    "\n",
    "%y -- refers to year without the century 19, 20, 80\n",
    "%Y -- 2019, 2020, 1980\n",
    "\n",
    "Time \n",
    "%H -- hours in 24hrs format\n",
    "%I(%p) -- hours in 12hrs format with a.m., p.m. (%p)\n",
    "\n",
    "%M -- minutes\n",
    "%S -- seconds"
   ]
  },
  {
   "cell_type": "code",
   "execution_count": 30,
   "metadata": {},
   "outputs": [],
   "source": [
    "# Signature:pd.to_datetime(arg, errors='raise', dayfirst=False, yearfirst=False, utc=None, box=True, format=None, exact=True,\n",
    "    unit=None, infer_datetime_format=False, origin='unix', cache=False,)\n",
    "# Docstring: Convert argument to datetime.\n",
    "\n",
    "pd.to_datetime?"
   ]
  },
  {
   "cell_type": "code",
   "execution_count": 35,
   "metadata": {},
   "outputs": [],
   "source": [
    "# convert following dates in to datetime\n",
    "d1 = pd.Series(['23092012', '03092019'])\n",
    "d2 = pd.Series(['12:45:55 pm 02232002', '11:40:55 pm 06022002', '12:04:55 am 11302002'])"
   ]
  },
  {
   "cell_type": "code",
   "execution_count": 33,
   "metadata": {},
   "outputs": [
    {
     "data": {
      "text/plain": [
       "0    23092012\n",
       "1    03092019\n",
       "dtype: object"
      ]
     },
     "execution_count": 33,
     "metadata": {},
     "output_type": "execute_result"
    }
   ],
   "source": [
    "d1"
   ]
  },
  {
   "cell_type": "code",
   "execution_count": 34,
   "metadata": {},
   "outputs": [
    {
     "data": {
      "text/plain": [
       "0   2012-09-23\n",
       "1   2019-09-03\n",
       "dtype: datetime64[ns]"
      ]
     },
     "execution_count": 34,
     "metadata": {},
     "output_type": "execute_result"
    }
   ],
   "source": [
    "# series 1\n",
    "pd.to_datetime(d1, format = '%d%m%Y')"
   ]
  },
  {
   "cell_type": "code",
   "execution_count": 36,
   "metadata": {},
   "outputs": [
    {
     "data": {
      "text/plain": [
       "0    12:45:55 pm 02232002\n",
       "1    11:40:55 pm 06022002\n",
       "2    12:04:55 am 11302002\n",
       "dtype: object"
      ]
     },
     "execution_count": 36,
     "metadata": {},
     "output_type": "execute_result"
    }
   ],
   "source": [
    "d2"
   ]
  },
  {
   "cell_type": "code",
   "execution_count": 37,
   "metadata": {},
   "outputs": [
    {
     "data": {
      "text/plain": [
       "0   2002-02-23 12:45:55\n",
       "1   2002-06-02 23:40:55\n",
       "2   2002-11-30 00:04:55\n",
       "dtype: datetime64[ns]"
      ]
     },
     "execution_count": 37,
     "metadata": {},
     "output_type": "execute_result"
    }
   ],
   "source": [
    "# series 2\n",
    "pd.to_datetime(d2, format = '%I:%M:%S %p %m%d%Y')"
   ]
  },
  {
   "cell_type": "code",
   "execution_count": 42,
   "metadata": {},
   "outputs": [],
   "source": [
    "d3 = pd.Series(['34', '54', '66'])"
   ]
  },
  {
   "cell_type": "code",
   "execution_count": 43,
   "metadata": {},
   "outputs": [
    {
     "data": {
      "text/plain": [
       "0    34\n",
       "1    54\n",
       "2    66\n",
       "dtype: object"
      ]
     },
     "execution_count": 43,
     "metadata": {},
     "output_type": "execute_result"
    }
   ],
   "source": [
    "d3"
   ]
  },
  {
   "cell_type": "code",
   "execution_count": null,
   "metadata": {},
   "outputs": [],
   "source": [
    "# direct typecast not possible so give error\n",
    "\n",
    "d3 + 100 --- error"
   ]
  },
  {
   "cell_type": "code",
   "execution_count": 47,
   "metadata": {},
   "outputs": [
    {
     "data": {
      "text/plain": [
       "0    34\n",
       "1    54\n",
       "2    66\n",
       "dtype: int64"
      ]
     },
     "execution_count": 47,
     "metadata": {},
     "output_type": "execute_result"
    }
   ],
   "source": [
    "# So, we will use to_numeric...it will not be problem even if the data is in float type\n",
    "# Now after converting you can add 100 \n",
    "\n",
    "pd.to_numeric(d3) "
   ]
  },
  {
   "cell_type": "code",
   "execution_count": 46,
   "metadata": {},
   "outputs": [
    {
     "data": {
      "text/plain": [
       "0    134\n",
       "1    154\n",
       "2    166\n",
       "dtype: int64"
      ]
     },
     "execution_count": 46,
     "metadata": {},
     "output_type": "execute_result"
    }
   ],
   "source": [
    "pd.to_numeric(d3) + 100"
   ]
  },
  {
   "cell_type": "code",
   "execution_count": null,
   "metadata": {},
   "outputs": [],
   "source": [
    "1:33"
   ]
  }
 ],
 "metadata": {
  "kernelspec": {
   "display_name": "Python 3",
   "language": "python",
   "name": "python3"
  },
  "language_info": {
   "codemirror_mode": {
    "name": "ipython",
    "version": 3
   },
   "file_extension": ".py",
   "mimetype": "text/x-python",
   "name": "python",
   "nbconvert_exporter": "python",
   "pygments_lexer": "ipython3",
   "version": "3.7.3"
  }
 },
 "nbformat": 4,
 "nbformat_minor": 2
}
